{
  "nbformat": 4,
  "nbformat_minor": 0,
  "metadata": {
    "colab": {
      "provenance": [],
      "authorship_tag": "ABX9TyN/MzELk/N0CwyVx+y9vik5",
      "include_colab_link": true
    },
    "kernelspec": {
      "name": "python3",
      "display_name": "Python 3"
    },
    "language_info": {
      "name": "python"
    }
  },
  "cells": [
    {
      "cell_type": "markdown",
      "metadata": {
        "id": "view-in-github",
        "colab_type": "text"
      },
      "source": [
        "<a href=\"https://colab.research.google.com/github/Philemonkipkirui/Data-Science/blob/main/Solar_Generation.ipynb\" target=\"_parent\"><img src=\"https://colab.research.google.com/assets/colab-badge.svg\" alt=\"Open In Colab\"/></a>"
      ]
    },
    {
      "cell_type": "markdown",
      "source": [
        "# **Analyzing Solar Generation and solar Usage**\n",
        "\n",
        "This is a project that analyzes solar electricity generation, electricity usage, and battery usage data to understand the potential benefits of using a battery system to store excess solar electricity."
      ],
      "metadata": {
        "id": "nGUKKL5V9sus"
      }
    },
    {
      "cell_type": "code",
      "source": [
        "#Analyzing Solar Generation and solar Usage"
      ],
      "metadata": {
        "id": "11Vu0fQO9nfo"
      },
      "execution_count": 110,
      "outputs": []
    },
    {
      "cell_type": "code",
      "execution_count": 111,
      "metadata": {
        "id": "Kme52QYa6dA9"
      },
      "outputs": [],
      "source": [
        "from google.colab import drive\n",
        "import numpy as np\n",
        "import pandas as pd\n",
        "import seaborn as sns\n",
        "import matplotlib.pyplot as plt\n",
        "from scipy import stats"
      ]
    },
    {
      "cell_type": "code",
      "source": [
        "drive.mount('/content/drive')"
      ],
      "metadata": {
        "colab": {
          "base_uri": "https://localhost:8080/"
        },
        "id": "ijQtnn0y60wN",
        "outputId": "ec27258c-90ab-42dc-9a9a-ff629d4f6448"
      },
      "execution_count": 112,
      "outputs": [
        {
          "output_type": "stream",
          "name": "stdout",
          "text": [
            "Drive already mounted at /content/drive; to attempt to forcibly remount, call drive.mount(\"/content/drive\", force_remount=True).\n"
          ]
        }
      ]
    },
    {
      "cell_type": "code",
      "source": [
        "df = pd.read_excel('/content/drive/MyDrive/Solar Energy Data.xlsx')\n",
        "#df = pd.read_excel('/content/drive/MyDrive/Solar Energy Data.xlsx', skiprows =2) .Skips the firs two rows of the dataframe."
      ],
      "metadata": {
        "id": "yu35QhGR7OS4"
      },
      "execution_count": 113,
      "outputs": []
    },
    {
      "cell_type": "markdown",
      "source": [
        "**Data Cleaning**"
      ],
      "metadata": {
        "id": "iasldNyz-TCj"
      }
    },
    {
      "cell_type": "code",
      "source": [
        "df.head(10)"
      ],
      "metadata": {
        "colab": {
          "base_uri": "https://localhost:8080/",
          "height": 554
        },
        "id": "wL7rC4Xd-Xle",
        "outputId": "cfa3448f-0b6b-462f-af90-90ae2ca9e409"
      },
      "execution_count": 114,
      "outputs": [
        {
          "output_type": "execute_result",
          "data": {
            "text/plain": [
              "   Hour 0 represents the hour from midnight to 01:00 and hour 23 represents the hour from 23:00 to midnight.  \\\n",
              "0                                                NaN                                                           \n",
              "1                                               Hour                                                           \n",
              "2                                                  0                                                           \n",
              "3                                                  1                                                           \n",
              "4                                                  2                                                           \n",
              "5                                                  3                                                           \n",
              "6                                                  4                                                           \n",
              "7                                                  5                                                           \n",
              "8                                                  6                                                           \n",
              "9                                                  7                                                           \n",
              "\n",
              "            Unnamed: 1                          Unnamed: 2  \\\n",
              "0                  NaN                                DATA   \n",
              "1      Date/hour start  Solar electricity generation (kWh)   \n",
              "2  2020-01-01 00:00:00                                   0   \n",
              "3  2020-01-01 01:00:00                                   0   \n",
              "4  2020-01-01 02:00:00                                   0   \n",
              "5  2020-01-01 03:00:00                                   0   \n",
              "6  2020-01-01 04:00:00                                   0   \n",
              "7  2020-01-01 05:00:00                               0.012   \n",
              "8  2020-01-01 06:00:00                               0.006   \n",
              "9  2020-01-01 07:00:00                               0.009   \n",
              "\n",
              "                Unnamed: 3  \n",
              "0                     DATA  \n",
              "1  Electricity usage (kWh)  \n",
              "2                 1.509849  \n",
              "3                 1.411859  \n",
              "4                 1.023898  \n",
              "5                    0.642  \n",
              "6                     0.96  \n",
              "7                    0.897  \n",
              "8                    0.648  \n",
              "9                    0.774  "
            ],
            "text/html": [
              "\n",
              "  <div id=\"df-adfc9718-e764-47cd-b04c-c6e5f014c31f\" class=\"colab-df-container\">\n",
              "    <div>\n",
              "<style scoped>\n",
              "    .dataframe tbody tr th:only-of-type {\n",
              "        vertical-align: middle;\n",
              "    }\n",
              "\n",
              "    .dataframe tbody tr th {\n",
              "        vertical-align: top;\n",
              "    }\n",
              "\n",
              "    .dataframe thead th {\n",
              "        text-align: right;\n",
              "    }\n",
              "</style>\n",
              "<table border=\"1\" class=\"dataframe\">\n",
              "  <thead>\n",
              "    <tr style=\"text-align: right;\">\n",
              "      <th></th>\n",
              "      <th>Hour 0 represents the hour from midnight to 01:00 and hour 23 represents the hour from 23:00 to midnight.</th>\n",
              "      <th>Unnamed: 1</th>\n",
              "      <th>Unnamed: 2</th>\n",
              "      <th>Unnamed: 3</th>\n",
              "    </tr>\n",
              "  </thead>\n",
              "  <tbody>\n",
              "    <tr>\n",
              "      <th>0</th>\n",
              "      <td>NaN</td>\n",
              "      <td>NaN</td>\n",
              "      <td>DATA</td>\n",
              "      <td>DATA</td>\n",
              "    </tr>\n",
              "    <tr>\n",
              "      <th>1</th>\n",
              "      <td>Hour</td>\n",
              "      <td>Date/hour start</td>\n",
              "      <td>Solar electricity generation (kWh)</td>\n",
              "      <td>Electricity usage (kWh)</td>\n",
              "    </tr>\n",
              "    <tr>\n",
              "      <th>2</th>\n",
              "      <td>0</td>\n",
              "      <td>2020-01-01 00:00:00</td>\n",
              "      <td>0</td>\n",
              "      <td>1.509849</td>\n",
              "    </tr>\n",
              "    <tr>\n",
              "      <th>3</th>\n",
              "      <td>1</td>\n",
              "      <td>2020-01-01 01:00:00</td>\n",
              "      <td>0</td>\n",
              "      <td>1.411859</td>\n",
              "    </tr>\n",
              "    <tr>\n",
              "      <th>4</th>\n",
              "      <td>2</td>\n",
              "      <td>2020-01-01 02:00:00</td>\n",
              "      <td>0</td>\n",
              "      <td>1.023898</td>\n",
              "    </tr>\n",
              "    <tr>\n",
              "      <th>5</th>\n",
              "      <td>3</td>\n",
              "      <td>2020-01-01 03:00:00</td>\n",
              "      <td>0</td>\n",
              "      <td>0.642</td>\n",
              "    </tr>\n",
              "    <tr>\n",
              "      <th>6</th>\n",
              "      <td>4</td>\n",
              "      <td>2020-01-01 04:00:00</td>\n",
              "      <td>0</td>\n",
              "      <td>0.96</td>\n",
              "    </tr>\n",
              "    <tr>\n",
              "      <th>7</th>\n",
              "      <td>5</td>\n",
              "      <td>2020-01-01 05:00:00</td>\n",
              "      <td>0.012</td>\n",
              "      <td>0.897</td>\n",
              "    </tr>\n",
              "    <tr>\n",
              "      <th>8</th>\n",
              "      <td>6</td>\n",
              "      <td>2020-01-01 06:00:00</td>\n",
              "      <td>0.006</td>\n",
              "      <td>0.648</td>\n",
              "    </tr>\n",
              "    <tr>\n",
              "      <th>9</th>\n",
              "      <td>7</td>\n",
              "      <td>2020-01-01 07:00:00</td>\n",
              "      <td>0.009</td>\n",
              "      <td>0.774</td>\n",
              "    </tr>\n",
              "  </tbody>\n",
              "</table>\n",
              "</div>\n",
              "    <div class=\"colab-df-buttons\">\n",
              "\n",
              "  <div class=\"colab-df-container\">\n",
              "    <button class=\"colab-df-convert\" onclick=\"convertToInteractive('df-adfc9718-e764-47cd-b04c-c6e5f014c31f')\"\n",
              "            title=\"Convert this dataframe to an interactive table.\"\n",
              "            style=\"display:none;\">\n",
              "\n",
              "  <svg xmlns=\"http://www.w3.org/2000/svg\" height=\"24px\" viewBox=\"0 -960 960 960\">\n",
              "    <path d=\"M120-120v-720h720v720H120Zm60-500h600v-160H180v160Zm220 220h160v-160H400v160Zm0 220h160v-160H400v160ZM180-400h160v-160H180v160Zm440 0h160v-160H620v160ZM180-180h160v-160H180v160Zm440 0h160v-160H620v160Z\"/>\n",
              "  </svg>\n",
              "    </button>\n",
              "\n",
              "  <style>\n",
              "    .colab-df-container {\n",
              "      display:flex;\n",
              "      gap: 12px;\n",
              "    }\n",
              "\n",
              "    .colab-df-convert {\n",
              "      background-color: #E8F0FE;\n",
              "      border: none;\n",
              "      border-radius: 50%;\n",
              "      cursor: pointer;\n",
              "      display: none;\n",
              "      fill: #1967D2;\n",
              "      height: 32px;\n",
              "      padding: 0 0 0 0;\n",
              "      width: 32px;\n",
              "    }\n",
              "\n",
              "    .colab-df-convert:hover {\n",
              "      background-color: #E2EBFA;\n",
              "      box-shadow: 0px 1px 2px rgba(60, 64, 67, 0.3), 0px 1px 3px 1px rgba(60, 64, 67, 0.15);\n",
              "      fill: #174EA6;\n",
              "    }\n",
              "\n",
              "    .colab-df-buttons div {\n",
              "      margin-bottom: 4px;\n",
              "    }\n",
              "\n",
              "    [theme=dark] .colab-df-convert {\n",
              "      background-color: #3B4455;\n",
              "      fill: #D2E3FC;\n",
              "    }\n",
              "\n",
              "    [theme=dark] .colab-df-convert:hover {\n",
              "      background-color: #434B5C;\n",
              "      box-shadow: 0px 1px 3px 1px rgba(0, 0, 0, 0.15);\n",
              "      filter: drop-shadow(0px 1px 2px rgba(0, 0, 0, 0.3));\n",
              "      fill: #FFFFFF;\n",
              "    }\n",
              "  </style>\n",
              "\n",
              "    <script>\n",
              "      const buttonEl =\n",
              "        document.querySelector('#df-adfc9718-e764-47cd-b04c-c6e5f014c31f button.colab-df-convert');\n",
              "      buttonEl.style.display =\n",
              "        google.colab.kernel.accessAllowed ? 'block' : 'none';\n",
              "\n",
              "      async function convertToInteractive(key) {\n",
              "        const element = document.querySelector('#df-adfc9718-e764-47cd-b04c-c6e5f014c31f');\n",
              "        const dataTable =\n",
              "          await google.colab.kernel.invokeFunction('convertToInteractive',\n",
              "                                                    [key], {});\n",
              "        if (!dataTable) return;\n",
              "\n",
              "        const docLinkHtml = 'Like what you see? Visit the ' +\n",
              "          '<a target=\"_blank\" href=https://colab.research.google.com/notebooks/data_table.ipynb>data table notebook</a>'\n",
              "          + ' to learn more about interactive tables.';\n",
              "        element.innerHTML = '';\n",
              "        dataTable['output_type'] = 'display_data';\n",
              "        await google.colab.output.renderOutput(dataTable, element);\n",
              "        const docLink = document.createElement('div');\n",
              "        docLink.innerHTML = docLinkHtml;\n",
              "        element.appendChild(docLink);\n",
              "      }\n",
              "    </script>\n",
              "  </div>\n",
              "\n",
              "\n",
              "<div id=\"df-3a9f8b71-79de-4a8b-bb34-8d270970aaf1\">\n",
              "  <button class=\"colab-df-quickchart\" onclick=\"quickchart('df-3a9f8b71-79de-4a8b-bb34-8d270970aaf1')\"\n",
              "            title=\"Suggest charts\"\n",
              "            style=\"display:none;\">\n",
              "\n",
              "<svg xmlns=\"http://www.w3.org/2000/svg\" height=\"24px\"viewBox=\"0 0 24 24\"\n",
              "     width=\"24px\">\n",
              "    <g>\n",
              "        <path d=\"M19 3H5c-1.1 0-2 .9-2 2v14c0 1.1.9 2 2 2h14c1.1 0 2-.9 2-2V5c0-1.1-.9-2-2-2zM9 17H7v-7h2v7zm4 0h-2V7h2v10zm4 0h-2v-4h2v4z\"/>\n",
              "    </g>\n",
              "</svg>\n",
              "  </button>\n",
              "\n",
              "<style>\n",
              "  .colab-df-quickchart {\n",
              "      --bg-color: #E8F0FE;\n",
              "      --fill-color: #1967D2;\n",
              "      --hover-bg-color: #E2EBFA;\n",
              "      --hover-fill-color: #174EA6;\n",
              "      --disabled-fill-color: #AAA;\n",
              "      --disabled-bg-color: #DDD;\n",
              "  }\n",
              "\n",
              "  [theme=dark] .colab-df-quickchart {\n",
              "      --bg-color: #3B4455;\n",
              "      --fill-color: #D2E3FC;\n",
              "      --hover-bg-color: #434B5C;\n",
              "      --hover-fill-color: #FFFFFF;\n",
              "      --disabled-bg-color: #3B4455;\n",
              "      --disabled-fill-color: #666;\n",
              "  }\n",
              "\n",
              "  .colab-df-quickchart {\n",
              "    background-color: var(--bg-color);\n",
              "    border: none;\n",
              "    border-radius: 50%;\n",
              "    cursor: pointer;\n",
              "    display: none;\n",
              "    fill: var(--fill-color);\n",
              "    height: 32px;\n",
              "    padding: 0;\n",
              "    width: 32px;\n",
              "  }\n",
              "\n",
              "  .colab-df-quickchart:hover {\n",
              "    background-color: var(--hover-bg-color);\n",
              "    box-shadow: 0 1px 2px rgba(60, 64, 67, 0.3), 0 1px 3px 1px rgba(60, 64, 67, 0.15);\n",
              "    fill: var(--button-hover-fill-color);\n",
              "  }\n",
              "\n",
              "  .colab-df-quickchart-complete:disabled,\n",
              "  .colab-df-quickchart-complete:disabled:hover {\n",
              "    background-color: var(--disabled-bg-color);\n",
              "    fill: var(--disabled-fill-color);\n",
              "    box-shadow: none;\n",
              "  }\n",
              "\n",
              "  .colab-df-spinner {\n",
              "    border: 2px solid var(--fill-color);\n",
              "    border-color: transparent;\n",
              "    border-bottom-color: var(--fill-color);\n",
              "    animation:\n",
              "      spin 1s steps(1) infinite;\n",
              "  }\n",
              "\n",
              "  @keyframes spin {\n",
              "    0% {\n",
              "      border-color: transparent;\n",
              "      border-bottom-color: var(--fill-color);\n",
              "      border-left-color: var(--fill-color);\n",
              "    }\n",
              "    20% {\n",
              "      border-color: transparent;\n",
              "      border-left-color: var(--fill-color);\n",
              "      border-top-color: var(--fill-color);\n",
              "    }\n",
              "    30% {\n",
              "      border-color: transparent;\n",
              "      border-left-color: var(--fill-color);\n",
              "      border-top-color: var(--fill-color);\n",
              "      border-right-color: var(--fill-color);\n",
              "    }\n",
              "    40% {\n",
              "      border-color: transparent;\n",
              "      border-right-color: var(--fill-color);\n",
              "      border-top-color: var(--fill-color);\n",
              "    }\n",
              "    60% {\n",
              "      border-color: transparent;\n",
              "      border-right-color: var(--fill-color);\n",
              "    }\n",
              "    80% {\n",
              "      border-color: transparent;\n",
              "      border-right-color: var(--fill-color);\n",
              "      border-bottom-color: var(--fill-color);\n",
              "    }\n",
              "    90% {\n",
              "      border-color: transparent;\n",
              "      border-bottom-color: var(--fill-color);\n",
              "    }\n",
              "  }\n",
              "</style>\n",
              "\n",
              "  <script>\n",
              "    async function quickchart(key) {\n",
              "      const quickchartButtonEl =\n",
              "        document.querySelector('#' + key + ' button');\n",
              "      quickchartButtonEl.disabled = true;  // To prevent multiple clicks.\n",
              "      quickchartButtonEl.classList.add('colab-df-spinner');\n",
              "      try {\n",
              "        const charts = await google.colab.kernel.invokeFunction(\n",
              "            'suggestCharts', [key], {});\n",
              "      } catch (error) {\n",
              "        console.error('Error during call to suggestCharts:', error);\n",
              "      }\n",
              "      quickchartButtonEl.classList.remove('colab-df-spinner');\n",
              "      quickchartButtonEl.classList.add('colab-df-quickchart-complete');\n",
              "    }\n",
              "    (() => {\n",
              "      let quickchartButtonEl =\n",
              "        document.querySelector('#df-3a9f8b71-79de-4a8b-bb34-8d270970aaf1 button');\n",
              "      quickchartButtonEl.style.display =\n",
              "        google.colab.kernel.accessAllowed ? 'block' : 'none';\n",
              "    })();\n",
              "  </script>\n",
              "</div>\n",
              "\n",
              "    </div>\n",
              "  </div>\n"
            ],
            "application/vnd.google.colaboratory.intrinsic+json": {
              "type": "dataframe",
              "variable_name": "df",
              "summary": "{\n  \"name\": \"df\",\n  \"rows\": 8762,\n  \"fields\": [\n    {\n      \"column\": \" Hour 0 represents the hour from midnight to 01:00 and hour 23 represents the hour from 23:00 to midnight.\",\n      \"properties\": {\n        \"dtype\": \"category\",\n        \"num_unique_values\": 25,\n        \"samples\": [\n          7,\n          15,\n          \"Hour\"\n        ],\n        \"semantic_type\": \"\",\n        \"description\": \"\"\n      }\n    },\n    {\n      \"column\": \"Unnamed: 1\",\n      \"properties\": {\n        \"dtype\": \"string\",\n        \"num_unique_values\": 8761,\n        \"samples\": [\n          \"2020-04-14 11:00:00\",\n          \"2020-04-16 10:00:00\",\n          \"2020-03-12 18:00:00\"\n        ],\n        \"semantic_type\": \"\",\n        \"description\": \"\"\n      }\n    },\n    {\n      \"column\": \"Unnamed: 2\",\n      \"properties\": {\n        \"dtype\": \"category\",\n        \"num_unique_values\": 1776,\n        \"samples\": [\n          0.252,\n          4.647,\n          2.7840000000000003\n        ],\n        \"semantic_type\": \"\",\n        \"description\": \"\"\n      }\n    },\n    {\n      \"column\": \"Unnamed: 3\",\n      \"properties\": {\n        \"dtype\": \"category\",\n        \"num_unique_values\": 2763,\n        \"samples\": [\n          1.347,\n          7.7088,\n          3.534\n        ],\n        \"semantic_type\": \"\",\n        \"description\": \"\"\n      }\n    }\n  ]\n}"
            }
          },
          "metadata": {},
          "execution_count": 114
        }
      ]
    },
    {
      "cell_type": "code",
      "source": [
        "df.columns"
      ],
      "metadata": {
        "colab": {
          "base_uri": "https://localhost:8080/"
        },
        "id": "I1pJoTor-w4U",
        "outputId": "9722346b-326c-466f-e1f4-03559643b1c1"
      },
      "execution_count": 115,
      "outputs": [
        {
          "output_type": "execute_result",
          "data": {
            "text/plain": [
              "Index([' Hour 0 represents the hour from midnight to 01:00 and hour 23 represents the hour from 23:00 to midnight.',\n",
              "       'Unnamed: 1', 'Unnamed: 2', 'Unnamed: 3'],\n",
              "      dtype='object')"
            ]
          },
          "metadata": {},
          "execution_count": 115
        }
      ]
    },
    {
      "cell_type": "code",
      "source": [
        "#Dropping the rows with index 0 and 1\n",
        "\n",
        "df.drop(labels=[df.index[0],df.index[1]], inplace = True)\n",
        "df.reset_index(drop = True, inplace = True)"
      ],
      "metadata": {
        "id": "_E_sb3WL-5DF"
      },
      "execution_count": 116,
      "outputs": []
    },
    {
      "cell_type": "markdown",
      "source": [
        "Renaming the columns."
      ],
      "metadata": {
        "id": "VPIEf0m9AP4k"
      }
    },
    {
      "cell_type": "code",
      "source": [
        "df.rename(columns = {' Hour 0 represents the hour from midnight to 01:00 and hour 23 represents the hour from 23:00 to midnight.' : 'Hour'}, inplace= True)\n",
        "df.rename(columns = {'Unnamed: 1' : 'Date_Hour'}, inplace= True)\n",
        "df.rename(columns = {'Unnamed: 2' : 'Solar_electricity_generation'}, inplace= True)\n",
        "df.rename(columns = {'Unnamed: 3' : 'Electricity_usage'}, inplace= True)\n",
        "df.columns\n"
      ],
      "metadata": {
        "colab": {
          "base_uri": "https://localhost:8080/"
        },
        "id": "rQU2qLmJAOPs",
        "outputId": "7f1e6be1-b372-4dd6-a56a-fd47874133cf"
      },
      "execution_count": 117,
      "outputs": [
        {
          "output_type": "execute_result",
          "data": {
            "text/plain": [
              "Index(['Hour', 'Date_Hour', 'Solar_electricity_generation',\n",
              "       'Electricity_usage'],\n",
              "      dtype='object')"
            ]
          },
          "metadata": {},
          "execution_count": 117
        }
      ]
    },
    {
      "cell_type": "code",
      "source": [
        "df['Date_Hour'] =pd.to_datetime(df['Date_Hour'][1:], format = '%d,%m, %y', errors ='coerce')\n",
        "df['Hour'] =df['Hour'].fillna(0).astype(int)\n",
        "df['Solar_electricity_generation'] = df['Solar_electricity_generation'].replace('DATA', 0).astype(int)\n",
        "df['Electricity_usage'] = df['Electricity_usage'].astype(int)\n",
        "df.columns\n"
      ],
      "metadata": {
        "colab": {
          "base_uri": "https://localhost:8080/"
        },
        "id": "jLPkY47JJ5kt",
        "outputId": "b8fc8a15-96b1-418e-ce0c-c73edf065c89"
      },
      "execution_count": 118,
      "outputs": [
        {
          "output_type": "execute_result",
          "data": {
            "text/plain": [
              "Index(['Hour', 'Date_Hour', 'Solar_electricity_generation',\n",
              "       'Electricity_usage'],\n",
              "      dtype='object')"
            ]
          },
          "metadata": {},
          "execution_count": 118
        }
      ]
    },
    {
      "cell_type": "code",
      "source": [
        "df.info()"
      ],
      "metadata": {
        "colab": {
          "base_uri": "https://localhost:8080/"
        },
        "id": "xJpWNb6fDyqk",
        "outputId": "96359b84-f905-48cc-8ce6-fa8e4f9233f2"
      },
      "execution_count": 119,
      "outputs": [
        {
          "output_type": "stream",
          "name": "stdout",
          "text": [
            "<class 'pandas.core.frame.DataFrame'>\n",
            "RangeIndex: 8760 entries, 0 to 8759\n",
            "Data columns (total 4 columns):\n",
            " #   Column                        Non-Null Count  Dtype         \n",
            "---  ------                        --------------  -----         \n",
            " 0   Hour                          8760 non-null   int64         \n",
            " 1   Date_Hour                     8759 non-null   datetime64[ns]\n",
            " 2   Solar_electricity_generation  8760 non-null   int64         \n",
            " 3   Electricity_usage             8760 non-null   int64         \n",
            "dtypes: datetime64[ns](1), int64(3)\n",
            "memory usage: 273.9 KB\n"
          ]
        }
      ]
    },
    {
      "cell_type": "markdown",
      "source": [
        "Checking For Duplicate values\n"
      ],
      "metadata": {
        "id": "0YhuyLMqC2tU"
      }
    },
    {
      "cell_type": "code",
      "source": [
        "df.duplicated().sum()"
      ],
      "metadata": {
        "colab": {
          "base_uri": "https://localhost:8080/"
        },
        "id": "qEmT2K08C6wp",
        "outputId": "9b1536f7-76d6-4493-fe7c-9e047f7fada2"
      },
      "execution_count": 120,
      "outputs": [
        {
          "output_type": "execute_result",
          "data": {
            "text/plain": [
              "0"
            ]
          },
          "metadata": {},
          "execution_count": 120
        }
      ]
    },
    {
      "cell_type": "markdown",
      "source": [
        "Finding Outliers."
      ],
      "metadata": {
        "id": "bYSqMkILHSxD"
      }
    },
    {
      "cell_type": "code",
      "source": [
        "df['Z_score'] = np.abs(stats.zscore(df['Electricity_usage']))\n",
        "#df.head()\n",
        "outliers = df[df['Z_score']>3]\n",
        "print(outliers)\n"
      ],
      "metadata": {
        "colab": {
          "base_uri": "https://localhost:8080/"
        },
        "id": "NZKIf5hiHXxR",
        "outputId": "dee64e0e-68fd-46a4-ef6e-72cded40dd85",
        "collapsed": true
      },
      "execution_count": 121,
      "outputs": [
        {
          "output_type": "stream",
          "name": "stdout",
          "text": [
            "     Hour           Date_Hour  Solar_electricity_generation  \\\n",
            "276    12 2020-01-12 12:00:00                             5   \n",
            "\n",
            "     Electricity_usage    Z_score  \n",
            "276              46000  93.585399  \n"
          ]
        }
      ]
    },
    {
      "cell_type": "code",
      "source": [
        "for outlier in outliers['Electricity_usage']:\n",
        "  df['Electricity_usage'] = df['Electricity_usage'].replace( outlier, df['Electricity_usage'].mean())"
      ],
      "metadata": {
        "id": "rBop5K3V4K6_"
      },
      "execution_count": 122,
      "outputs": []
    },
    {
      "cell_type": "code",
      "source": [
        "df.head(20)"
      ],
      "metadata": {
        "colab": {
          "base_uri": "https://localhost:8080/",
          "height": 676
        },
        "id": "E8ALj6sR6Iul",
        "outputId": "4e64e5a0-ec00-40e1-d73a-dd72112292c1"
      },
      "execution_count": 123,
      "outputs": [
        {
          "output_type": "execute_result",
          "data": {
            "text/plain": [
              "    Hour           Date_Hour  Solar_electricity_generation  Electricity_usage  \\\n",
              "0      0                 NaT                             0                1.0   \n",
              "1      1 2020-01-01 01:00:00                             0                1.0   \n",
              "2      2 2020-01-01 02:00:00                             0                1.0   \n",
              "3      3 2020-01-01 03:00:00                             0                0.0   \n",
              "4      4 2020-01-01 04:00:00                             0                0.0   \n",
              "5      5 2020-01-01 05:00:00                             0                0.0   \n",
              "6      6 2020-01-01 06:00:00                             0                0.0   \n",
              "7      7 2020-01-01 07:00:00                             0                0.0   \n",
              "8      8 2020-01-01 08:00:00                             0                1.0   \n",
              "9      9 2020-01-01 09:00:00                             0                0.0   \n",
              "10    10 2020-01-01 10:00:00                             0                0.0   \n",
              "11    11 2020-01-01 11:00:00                             0                0.0   \n",
              "12    12 2020-01-01 12:00:00                             0                0.0   \n",
              "13    13 2020-01-01 13:00:00                             0                0.0   \n",
              "14    14 2020-01-01 14:00:00                             0                1.0   \n",
              "15    15 2020-01-01 15:00:00                             0                1.0   \n",
              "16    16 2020-01-01 16:00:00                             0                3.0   \n",
              "17    17 2020-01-01 17:00:00                             0              -12.0   \n",
              "18    18 2020-01-01 18:00:00                             0                8.0   \n",
              "19    19 2020-01-01 19:00:00                             0                2.0   \n",
              "\n",
              "     Z_score  \n",
              "0   0.011983  \n",
              "1   0.011983  \n",
              "2   0.011983  \n",
              "3   0.014018  \n",
              "4   0.014018  \n",
              "5   0.014018  \n",
              "6   0.014018  \n",
              "7   0.014018  \n",
              "8   0.011983  \n",
              "9   0.014018  \n",
              "10  0.014018  \n",
              "11  0.014018  \n",
              "12  0.014018  \n",
              "13  0.014018  \n",
              "14  0.011983  \n",
              "15  0.011983  \n",
              "16  0.007913  \n",
              "17  0.038435  \n",
              "18  0.002261  \n",
              "19  0.009948  "
            ],
            "text/html": [
              "\n",
              "  <div id=\"df-559e9481-8835-433b-915e-0c15500aa675\" class=\"colab-df-container\">\n",
              "    <div>\n",
              "<style scoped>\n",
              "    .dataframe tbody tr th:only-of-type {\n",
              "        vertical-align: middle;\n",
              "    }\n",
              "\n",
              "    .dataframe tbody tr th {\n",
              "        vertical-align: top;\n",
              "    }\n",
              "\n",
              "    .dataframe thead th {\n",
              "        text-align: right;\n",
              "    }\n",
              "</style>\n",
              "<table border=\"1\" class=\"dataframe\">\n",
              "  <thead>\n",
              "    <tr style=\"text-align: right;\">\n",
              "      <th></th>\n",
              "      <th>Hour</th>\n",
              "      <th>Date_Hour</th>\n",
              "      <th>Solar_electricity_generation</th>\n",
              "      <th>Electricity_usage</th>\n",
              "      <th>Z_score</th>\n",
              "    </tr>\n",
              "  </thead>\n",
              "  <tbody>\n",
              "    <tr>\n",
              "      <th>0</th>\n",
              "      <td>0</td>\n",
              "      <td>NaT</td>\n",
              "      <td>0</td>\n",
              "      <td>1.0</td>\n",
              "      <td>0.011983</td>\n",
              "    </tr>\n",
              "    <tr>\n",
              "      <th>1</th>\n",
              "      <td>1</td>\n",
              "      <td>2020-01-01 01:00:00</td>\n",
              "      <td>0</td>\n",
              "      <td>1.0</td>\n",
              "      <td>0.011983</td>\n",
              "    </tr>\n",
              "    <tr>\n",
              "      <th>2</th>\n",
              "      <td>2</td>\n",
              "      <td>2020-01-01 02:00:00</td>\n",
              "      <td>0</td>\n",
              "      <td>1.0</td>\n",
              "      <td>0.011983</td>\n",
              "    </tr>\n",
              "    <tr>\n",
              "      <th>3</th>\n",
              "      <td>3</td>\n",
              "      <td>2020-01-01 03:00:00</td>\n",
              "      <td>0</td>\n",
              "      <td>0.0</td>\n",
              "      <td>0.014018</td>\n",
              "    </tr>\n",
              "    <tr>\n",
              "      <th>4</th>\n",
              "      <td>4</td>\n",
              "      <td>2020-01-01 04:00:00</td>\n",
              "      <td>0</td>\n",
              "      <td>0.0</td>\n",
              "      <td>0.014018</td>\n",
              "    </tr>\n",
              "    <tr>\n",
              "      <th>5</th>\n",
              "      <td>5</td>\n",
              "      <td>2020-01-01 05:00:00</td>\n",
              "      <td>0</td>\n",
              "      <td>0.0</td>\n",
              "      <td>0.014018</td>\n",
              "    </tr>\n",
              "    <tr>\n",
              "      <th>6</th>\n",
              "      <td>6</td>\n",
              "      <td>2020-01-01 06:00:00</td>\n",
              "      <td>0</td>\n",
              "      <td>0.0</td>\n",
              "      <td>0.014018</td>\n",
              "    </tr>\n",
              "    <tr>\n",
              "      <th>7</th>\n",
              "      <td>7</td>\n",
              "      <td>2020-01-01 07:00:00</td>\n",
              "      <td>0</td>\n",
              "      <td>0.0</td>\n",
              "      <td>0.014018</td>\n",
              "    </tr>\n",
              "    <tr>\n",
              "      <th>8</th>\n",
              "      <td>8</td>\n",
              "      <td>2020-01-01 08:00:00</td>\n",
              "      <td>0</td>\n",
              "      <td>1.0</td>\n",
              "      <td>0.011983</td>\n",
              "    </tr>\n",
              "    <tr>\n",
              "      <th>9</th>\n",
              "      <td>9</td>\n",
              "      <td>2020-01-01 09:00:00</td>\n",
              "      <td>0</td>\n",
              "      <td>0.0</td>\n",
              "      <td>0.014018</td>\n",
              "    </tr>\n",
              "    <tr>\n",
              "      <th>10</th>\n",
              "      <td>10</td>\n",
              "      <td>2020-01-01 10:00:00</td>\n",
              "      <td>0</td>\n",
              "      <td>0.0</td>\n",
              "      <td>0.014018</td>\n",
              "    </tr>\n",
              "    <tr>\n",
              "      <th>11</th>\n",
              "      <td>11</td>\n",
              "      <td>2020-01-01 11:00:00</td>\n",
              "      <td>0</td>\n",
              "      <td>0.0</td>\n",
              "      <td>0.014018</td>\n",
              "    </tr>\n",
              "    <tr>\n",
              "      <th>12</th>\n",
              "      <td>12</td>\n",
              "      <td>2020-01-01 12:00:00</td>\n",
              "      <td>0</td>\n",
              "      <td>0.0</td>\n",
              "      <td>0.014018</td>\n",
              "    </tr>\n",
              "    <tr>\n",
              "      <th>13</th>\n",
              "      <td>13</td>\n",
              "      <td>2020-01-01 13:00:00</td>\n",
              "      <td>0</td>\n",
              "      <td>0.0</td>\n",
              "      <td>0.014018</td>\n",
              "    </tr>\n",
              "    <tr>\n",
              "      <th>14</th>\n",
              "      <td>14</td>\n",
              "      <td>2020-01-01 14:00:00</td>\n",
              "      <td>0</td>\n",
              "      <td>1.0</td>\n",
              "      <td>0.011983</td>\n",
              "    </tr>\n",
              "    <tr>\n",
              "      <th>15</th>\n",
              "      <td>15</td>\n",
              "      <td>2020-01-01 15:00:00</td>\n",
              "      <td>0</td>\n",
              "      <td>1.0</td>\n",
              "      <td>0.011983</td>\n",
              "    </tr>\n",
              "    <tr>\n",
              "      <th>16</th>\n",
              "      <td>16</td>\n",
              "      <td>2020-01-01 16:00:00</td>\n",
              "      <td>0</td>\n",
              "      <td>3.0</td>\n",
              "      <td>0.007913</td>\n",
              "    </tr>\n",
              "    <tr>\n",
              "      <th>17</th>\n",
              "      <td>17</td>\n",
              "      <td>2020-01-01 17:00:00</td>\n",
              "      <td>0</td>\n",
              "      <td>-12.0</td>\n",
              "      <td>0.038435</td>\n",
              "    </tr>\n",
              "    <tr>\n",
              "      <th>18</th>\n",
              "      <td>18</td>\n",
              "      <td>2020-01-01 18:00:00</td>\n",
              "      <td>0</td>\n",
              "      <td>8.0</td>\n",
              "      <td>0.002261</td>\n",
              "    </tr>\n",
              "    <tr>\n",
              "      <th>19</th>\n",
              "      <td>19</td>\n",
              "      <td>2020-01-01 19:00:00</td>\n",
              "      <td>0</td>\n",
              "      <td>2.0</td>\n",
              "      <td>0.009948</td>\n",
              "    </tr>\n",
              "  </tbody>\n",
              "</table>\n",
              "</div>\n",
              "    <div class=\"colab-df-buttons\">\n",
              "\n",
              "  <div class=\"colab-df-container\">\n",
              "    <button class=\"colab-df-convert\" onclick=\"convertToInteractive('df-559e9481-8835-433b-915e-0c15500aa675')\"\n",
              "            title=\"Convert this dataframe to an interactive table.\"\n",
              "            style=\"display:none;\">\n",
              "\n",
              "  <svg xmlns=\"http://www.w3.org/2000/svg\" height=\"24px\" viewBox=\"0 -960 960 960\">\n",
              "    <path d=\"M120-120v-720h720v720H120Zm60-500h600v-160H180v160Zm220 220h160v-160H400v160Zm0 220h160v-160H400v160ZM180-400h160v-160H180v160Zm440 0h160v-160H620v160ZM180-180h160v-160H180v160Zm440 0h160v-160H620v160Z\"/>\n",
              "  </svg>\n",
              "    </button>\n",
              "\n",
              "  <style>\n",
              "    .colab-df-container {\n",
              "      display:flex;\n",
              "      gap: 12px;\n",
              "    }\n",
              "\n",
              "    .colab-df-convert {\n",
              "      background-color: #E8F0FE;\n",
              "      border: none;\n",
              "      border-radius: 50%;\n",
              "      cursor: pointer;\n",
              "      display: none;\n",
              "      fill: #1967D2;\n",
              "      height: 32px;\n",
              "      padding: 0 0 0 0;\n",
              "      width: 32px;\n",
              "    }\n",
              "\n",
              "    .colab-df-convert:hover {\n",
              "      background-color: #E2EBFA;\n",
              "      box-shadow: 0px 1px 2px rgba(60, 64, 67, 0.3), 0px 1px 3px 1px rgba(60, 64, 67, 0.15);\n",
              "      fill: #174EA6;\n",
              "    }\n",
              "\n",
              "    .colab-df-buttons div {\n",
              "      margin-bottom: 4px;\n",
              "    }\n",
              "\n",
              "    [theme=dark] .colab-df-convert {\n",
              "      background-color: #3B4455;\n",
              "      fill: #D2E3FC;\n",
              "    }\n",
              "\n",
              "    [theme=dark] .colab-df-convert:hover {\n",
              "      background-color: #434B5C;\n",
              "      box-shadow: 0px 1px 3px 1px rgba(0, 0, 0, 0.15);\n",
              "      filter: drop-shadow(0px 1px 2px rgba(0, 0, 0, 0.3));\n",
              "      fill: #FFFFFF;\n",
              "    }\n",
              "  </style>\n",
              "\n",
              "    <script>\n",
              "      const buttonEl =\n",
              "        document.querySelector('#df-559e9481-8835-433b-915e-0c15500aa675 button.colab-df-convert');\n",
              "      buttonEl.style.display =\n",
              "        google.colab.kernel.accessAllowed ? 'block' : 'none';\n",
              "\n",
              "      async function convertToInteractive(key) {\n",
              "        const element = document.querySelector('#df-559e9481-8835-433b-915e-0c15500aa675');\n",
              "        const dataTable =\n",
              "          await google.colab.kernel.invokeFunction('convertToInteractive',\n",
              "                                                    [key], {});\n",
              "        if (!dataTable) return;\n",
              "\n",
              "        const docLinkHtml = 'Like what you see? Visit the ' +\n",
              "          '<a target=\"_blank\" href=https://colab.research.google.com/notebooks/data_table.ipynb>data table notebook</a>'\n",
              "          + ' to learn more about interactive tables.';\n",
              "        element.innerHTML = '';\n",
              "        dataTable['output_type'] = 'display_data';\n",
              "        await google.colab.output.renderOutput(dataTable, element);\n",
              "        const docLink = document.createElement('div');\n",
              "        docLink.innerHTML = docLinkHtml;\n",
              "        element.appendChild(docLink);\n",
              "      }\n",
              "    </script>\n",
              "  </div>\n",
              "\n",
              "\n",
              "<div id=\"df-41a81560-29a8-4cf4-be2d-50815bdbc428\">\n",
              "  <button class=\"colab-df-quickchart\" onclick=\"quickchart('df-41a81560-29a8-4cf4-be2d-50815bdbc428')\"\n",
              "            title=\"Suggest charts\"\n",
              "            style=\"display:none;\">\n",
              "\n",
              "<svg xmlns=\"http://www.w3.org/2000/svg\" height=\"24px\"viewBox=\"0 0 24 24\"\n",
              "     width=\"24px\">\n",
              "    <g>\n",
              "        <path d=\"M19 3H5c-1.1 0-2 .9-2 2v14c0 1.1.9 2 2 2h14c1.1 0 2-.9 2-2V5c0-1.1-.9-2-2-2zM9 17H7v-7h2v7zm4 0h-2V7h2v10zm4 0h-2v-4h2v4z\"/>\n",
              "    </g>\n",
              "</svg>\n",
              "  </button>\n",
              "\n",
              "<style>\n",
              "  .colab-df-quickchart {\n",
              "      --bg-color: #E8F0FE;\n",
              "      --fill-color: #1967D2;\n",
              "      --hover-bg-color: #E2EBFA;\n",
              "      --hover-fill-color: #174EA6;\n",
              "      --disabled-fill-color: #AAA;\n",
              "      --disabled-bg-color: #DDD;\n",
              "  }\n",
              "\n",
              "  [theme=dark] .colab-df-quickchart {\n",
              "      --bg-color: #3B4455;\n",
              "      --fill-color: #D2E3FC;\n",
              "      --hover-bg-color: #434B5C;\n",
              "      --hover-fill-color: #FFFFFF;\n",
              "      --disabled-bg-color: #3B4455;\n",
              "      --disabled-fill-color: #666;\n",
              "  }\n",
              "\n",
              "  .colab-df-quickchart {\n",
              "    background-color: var(--bg-color);\n",
              "    border: none;\n",
              "    border-radius: 50%;\n",
              "    cursor: pointer;\n",
              "    display: none;\n",
              "    fill: var(--fill-color);\n",
              "    height: 32px;\n",
              "    padding: 0;\n",
              "    width: 32px;\n",
              "  }\n",
              "\n",
              "  .colab-df-quickchart:hover {\n",
              "    background-color: var(--hover-bg-color);\n",
              "    box-shadow: 0 1px 2px rgba(60, 64, 67, 0.3), 0 1px 3px 1px rgba(60, 64, 67, 0.15);\n",
              "    fill: var(--button-hover-fill-color);\n",
              "  }\n",
              "\n",
              "  .colab-df-quickchart-complete:disabled,\n",
              "  .colab-df-quickchart-complete:disabled:hover {\n",
              "    background-color: var(--disabled-bg-color);\n",
              "    fill: var(--disabled-fill-color);\n",
              "    box-shadow: none;\n",
              "  }\n",
              "\n",
              "  .colab-df-spinner {\n",
              "    border: 2px solid var(--fill-color);\n",
              "    border-color: transparent;\n",
              "    border-bottom-color: var(--fill-color);\n",
              "    animation:\n",
              "      spin 1s steps(1) infinite;\n",
              "  }\n",
              "\n",
              "  @keyframes spin {\n",
              "    0% {\n",
              "      border-color: transparent;\n",
              "      border-bottom-color: var(--fill-color);\n",
              "      border-left-color: var(--fill-color);\n",
              "    }\n",
              "    20% {\n",
              "      border-color: transparent;\n",
              "      border-left-color: var(--fill-color);\n",
              "      border-top-color: var(--fill-color);\n",
              "    }\n",
              "    30% {\n",
              "      border-color: transparent;\n",
              "      border-left-color: var(--fill-color);\n",
              "      border-top-color: var(--fill-color);\n",
              "      border-right-color: var(--fill-color);\n",
              "    }\n",
              "    40% {\n",
              "      border-color: transparent;\n",
              "      border-right-color: var(--fill-color);\n",
              "      border-top-color: var(--fill-color);\n",
              "    }\n",
              "    60% {\n",
              "      border-color: transparent;\n",
              "      border-right-color: var(--fill-color);\n",
              "    }\n",
              "    80% {\n",
              "      border-color: transparent;\n",
              "      border-right-color: var(--fill-color);\n",
              "      border-bottom-color: var(--fill-color);\n",
              "    }\n",
              "    90% {\n",
              "      border-color: transparent;\n",
              "      border-bottom-color: var(--fill-color);\n",
              "    }\n",
              "  }\n",
              "</style>\n",
              "\n",
              "  <script>\n",
              "    async function quickchart(key) {\n",
              "      const quickchartButtonEl =\n",
              "        document.querySelector('#' + key + ' button');\n",
              "      quickchartButtonEl.disabled = true;  // To prevent multiple clicks.\n",
              "      quickchartButtonEl.classList.add('colab-df-spinner');\n",
              "      try {\n",
              "        const charts = await google.colab.kernel.invokeFunction(\n",
              "            'suggestCharts', [key], {});\n",
              "      } catch (error) {\n",
              "        console.error('Error during call to suggestCharts:', error);\n",
              "      }\n",
              "      quickchartButtonEl.classList.remove('colab-df-spinner');\n",
              "      quickchartButtonEl.classList.add('colab-df-quickchart-complete');\n",
              "    }\n",
              "    (() => {\n",
              "      let quickchartButtonEl =\n",
              "        document.querySelector('#df-41a81560-29a8-4cf4-be2d-50815bdbc428 button');\n",
              "      quickchartButtonEl.style.display =\n",
              "        google.colab.kernel.accessAllowed ? 'block' : 'none';\n",
              "    })();\n",
              "  </script>\n",
              "</div>\n",
              "\n",
              "    </div>\n",
              "  </div>\n"
            ],
            "application/vnd.google.colaboratory.intrinsic+json": {
              "type": "dataframe",
              "variable_name": "df",
              "summary": "{\n  \"name\": \"df\",\n  \"rows\": 8760,\n  \"fields\": [\n    {\n      \"column\": \"Hour\",\n      \"properties\": {\n        \"dtype\": \"number\",\n        \"std\": 6,\n        \"min\": 0,\n        \"max\": 23,\n        \"num_unique_values\": 24,\n        \"samples\": [\n          8,\n          16,\n          0\n        ],\n        \"semantic_type\": \"\",\n        \"description\": \"\"\n      }\n    },\n    {\n      \"column\": \"Date_Hour\",\n      \"properties\": {\n        \"dtype\": \"date\",\n        \"min\": \"2020-01-01 01:00:00\",\n        \"max\": \"2020-12-31 23:00:00\",\n        \"num_unique_values\": 8759,\n        \"samples\": [\n          \"2020-09-10 08:00:00\",\n          \"2020-08-20 13:00:00\",\n          \"2020-12-06 13:00:00\"\n        ],\n        \"semantic_type\": \"\",\n        \"description\": \"\"\n      }\n    },\n    {\n      \"column\": \"Solar_electricity_generation\",\n      \"properties\": {\n        \"dtype\": \"number\",\n        \"std\": 1,\n        \"min\": 0,\n        \"max\": 13,\n        \"num_unique_values\": 12,\n        \"samples\": [\n          13,\n          9,\n          0\n        ],\n        \"semantic_type\": \"\",\n        \"description\": \"\"\n      }\n    },\n    {\n      \"column\": \"Electricity_usage\",\n      \"properties\": {\n        \"dtype\": \"number\",\n        \"std\": 4.617512143272057,\n        \"min\": -12.0,\n        \"max\": 61.0,\n        \"num_unique_values\": 48,\n        \"samples\": [\n          27.0,\n          33.0,\n          30.0\n        ],\n        \"semantic_type\": \"\",\n        \"description\": \"\"\n      }\n    },\n    {\n      \"column\": \"Z_score\",\n      \"properties\": {\n        \"dtype\": \"number\",\n        \"std\": 0.999775781144897,\n        \"min\": 0.0002257758421736676,\n        \"max\": 93.58539942569708,\n        \"num_unique_values\": 48,\n        \"samples\": [\n          0.04092117455495818,\n          0.053129794168793536,\n          0.047025484361875855\n        ],\n        \"semantic_type\": \"\",\n        \"description\": \"\"\n      }\n    }\n  ]\n}"
            }
          },
          "metadata": {},
          "execution_count": 123
        }
      ]
    },
    {
      "cell_type": "markdown",
      "source": [
        "**Comparing the average solar electricity generation and electricity usage for each hour in a day**"
      ],
      "metadata": {
        "id": "bm8UUTm5_B5b"
      }
    },
    {
      "cell_type": "code",
      "source": [
        "df.describe()"
      ],
      "metadata": {
        "colab": {
          "base_uri": "https://localhost:8080/",
          "height": 317
        },
        "id": "8DMpCA0CAYea",
        "outputId": "9301601e-f8c9-487c-aa22-9a5f89e3b8bb"
      },
      "execution_count": 124,
      "outputs": [
        {
          "output_type": "execute_result",
          "data": {
            "text/plain": [
              "              Hour                      Date_Hour  \\\n",
              "count  8760.000000                           8759   \n",
              "mean     11.500000  2020-07-02 08:07:22.242265088   \n",
              "min       0.000000            2020-01-01 01:00:00   \n",
              "25%       5.750000            2020-04-02 06:30:00   \n",
              "50%      11.500000            2020-07-02 12:00:00   \n",
              "75%      17.250000            2020-10-01 17:30:00   \n",
              "max      23.000000            2020-12-31 23:00:00   \n",
              "std       6.922582                            NaN   \n",
              "\n",
              "       Solar_electricity_generation  Electricity_usage      Z_score  \n",
              "count                   8760.000000        8760.000000  8760.000000  \n",
              "mean                       0.894635           1.638686     0.023717  \n",
              "min                        0.000000         -12.000000     0.000226  \n",
              "25%                        0.000000           0.000000     0.011983  \n",
              "50%                        0.000000           0.000000     0.014018  \n",
              "75%                        1.000000           1.000000     0.014018  \n",
              "max                       13.000000          61.000000    93.585399  \n",
              "std                        1.891320           4.617512     0.999776  "
            ],
            "text/html": [
              "\n",
              "  <div id=\"df-7d2b942a-4b07-4e85-a68c-5deacefa6e55\" class=\"colab-df-container\">\n",
              "    <div>\n",
              "<style scoped>\n",
              "    .dataframe tbody tr th:only-of-type {\n",
              "        vertical-align: middle;\n",
              "    }\n",
              "\n",
              "    .dataframe tbody tr th {\n",
              "        vertical-align: top;\n",
              "    }\n",
              "\n",
              "    .dataframe thead th {\n",
              "        text-align: right;\n",
              "    }\n",
              "</style>\n",
              "<table border=\"1\" class=\"dataframe\">\n",
              "  <thead>\n",
              "    <tr style=\"text-align: right;\">\n",
              "      <th></th>\n",
              "      <th>Hour</th>\n",
              "      <th>Date_Hour</th>\n",
              "      <th>Solar_electricity_generation</th>\n",
              "      <th>Electricity_usage</th>\n",
              "      <th>Z_score</th>\n",
              "    </tr>\n",
              "  </thead>\n",
              "  <tbody>\n",
              "    <tr>\n",
              "      <th>count</th>\n",
              "      <td>8760.000000</td>\n",
              "      <td>8759</td>\n",
              "      <td>8760.000000</td>\n",
              "      <td>8760.000000</td>\n",
              "      <td>8760.000000</td>\n",
              "    </tr>\n",
              "    <tr>\n",
              "      <th>mean</th>\n",
              "      <td>11.500000</td>\n",
              "      <td>2020-07-02 08:07:22.242265088</td>\n",
              "      <td>0.894635</td>\n",
              "      <td>1.638686</td>\n",
              "      <td>0.023717</td>\n",
              "    </tr>\n",
              "    <tr>\n",
              "      <th>min</th>\n",
              "      <td>0.000000</td>\n",
              "      <td>2020-01-01 01:00:00</td>\n",
              "      <td>0.000000</td>\n",
              "      <td>-12.000000</td>\n",
              "      <td>0.000226</td>\n",
              "    </tr>\n",
              "    <tr>\n",
              "      <th>25%</th>\n",
              "      <td>5.750000</td>\n",
              "      <td>2020-04-02 06:30:00</td>\n",
              "      <td>0.000000</td>\n",
              "      <td>0.000000</td>\n",
              "      <td>0.011983</td>\n",
              "    </tr>\n",
              "    <tr>\n",
              "      <th>50%</th>\n",
              "      <td>11.500000</td>\n",
              "      <td>2020-07-02 12:00:00</td>\n",
              "      <td>0.000000</td>\n",
              "      <td>0.000000</td>\n",
              "      <td>0.014018</td>\n",
              "    </tr>\n",
              "    <tr>\n",
              "      <th>75%</th>\n",
              "      <td>17.250000</td>\n",
              "      <td>2020-10-01 17:30:00</td>\n",
              "      <td>1.000000</td>\n",
              "      <td>1.000000</td>\n",
              "      <td>0.014018</td>\n",
              "    </tr>\n",
              "    <tr>\n",
              "      <th>max</th>\n",
              "      <td>23.000000</td>\n",
              "      <td>2020-12-31 23:00:00</td>\n",
              "      <td>13.000000</td>\n",
              "      <td>61.000000</td>\n",
              "      <td>93.585399</td>\n",
              "    </tr>\n",
              "    <tr>\n",
              "      <th>std</th>\n",
              "      <td>6.922582</td>\n",
              "      <td>NaN</td>\n",
              "      <td>1.891320</td>\n",
              "      <td>4.617512</td>\n",
              "      <td>0.999776</td>\n",
              "    </tr>\n",
              "  </tbody>\n",
              "</table>\n",
              "</div>\n",
              "    <div class=\"colab-df-buttons\">\n",
              "\n",
              "  <div class=\"colab-df-container\">\n",
              "    <button class=\"colab-df-convert\" onclick=\"convertToInteractive('df-7d2b942a-4b07-4e85-a68c-5deacefa6e55')\"\n",
              "            title=\"Convert this dataframe to an interactive table.\"\n",
              "            style=\"display:none;\">\n",
              "\n",
              "  <svg xmlns=\"http://www.w3.org/2000/svg\" height=\"24px\" viewBox=\"0 -960 960 960\">\n",
              "    <path d=\"M120-120v-720h720v720H120Zm60-500h600v-160H180v160Zm220 220h160v-160H400v160Zm0 220h160v-160H400v160ZM180-400h160v-160H180v160Zm440 0h160v-160H620v160ZM180-180h160v-160H180v160Zm440 0h160v-160H620v160Z\"/>\n",
              "  </svg>\n",
              "    </button>\n",
              "\n",
              "  <style>\n",
              "    .colab-df-container {\n",
              "      display:flex;\n",
              "      gap: 12px;\n",
              "    }\n",
              "\n",
              "    .colab-df-convert {\n",
              "      background-color: #E8F0FE;\n",
              "      border: none;\n",
              "      border-radius: 50%;\n",
              "      cursor: pointer;\n",
              "      display: none;\n",
              "      fill: #1967D2;\n",
              "      height: 32px;\n",
              "      padding: 0 0 0 0;\n",
              "      width: 32px;\n",
              "    }\n",
              "\n",
              "    .colab-df-convert:hover {\n",
              "      background-color: #E2EBFA;\n",
              "      box-shadow: 0px 1px 2px rgba(60, 64, 67, 0.3), 0px 1px 3px 1px rgba(60, 64, 67, 0.15);\n",
              "      fill: #174EA6;\n",
              "    }\n",
              "\n",
              "    .colab-df-buttons div {\n",
              "      margin-bottom: 4px;\n",
              "    }\n",
              "\n",
              "    [theme=dark] .colab-df-convert {\n",
              "      background-color: #3B4455;\n",
              "      fill: #D2E3FC;\n",
              "    }\n",
              "\n",
              "    [theme=dark] .colab-df-convert:hover {\n",
              "      background-color: #434B5C;\n",
              "      box-shadow: 0px 1px 3px 1px rgba(0, 0, 0, 0.15);\n",
              "      filter: drop-shadow(0px 1px 2px rgba(0, 0, 0, 0.3));\n",
              "      fill: #FFFFFF;\n",
              "    }\n",
              "  </style>\n",
              "\n",
              "    <script>\n",
              "      const buttonEl =\n",
              "        document.querySelector('#df-7d2b942a-4b07-4e85-a68c-5deacefa6e55 button.colab-df-convert');\n",
              "      buttonEl.style.display =\n",
              "        google.colab.kernel.accessAllowed ? 'block' : 'none';\n",
              "\n",
              "      async function convertToInteractive(key) {\n",
              "        const element = document.querySelector('#df-7d2b942a-4b07-4e85-a68c-5deacefa6e55');\n",
              "        const dataTable =\n",
              "          await google.colab.kernel.invokeFunction('convertToInteractive',\n",
              "                                                    [key], {});\n",
              "        if (!dataTable) return;\n",
              "\n",
              "        const docLinkHtml = 'Like what you see? Visit the ' +\n",
              "          '<a target=\"_blank\" href=https://colab.research.google.com/notebooks/data_table.ipynb>data table notebook</a>'\n",
              "          + ' to learn more about interactive tables.';\n",
              "        element.innerHTML = '';\n",
              "        dataTable['output_type'] = 'display_data';\n",
              "        await google.colab.output.renderOutput(dataTable, element);\n",
              "        const docLink = document.createElement('div');\n",
              "        docLink.innerHTML = docLinkHtml;\n",
              "        element.appendChild(docLink);\n",
              "      }\n",
              "    </script>\n",
              "  </div>\n",
              "\n",
              "\n",
              "<div id=\"df-b7ff1e10-94a9-4425-8d45-348bacaa0dd0\">\n",
              "  <button class=\"colab-df-quickchart\" onclick=\"quickchart('df-b7ff1e10-94a9-4425-8d45-348bacaa0dd0')\"\n",
              "            title=\"Suggest charts\"\n",
              "            style=\"display:none;\">\n",
              "\n",
              "<svg xmlns=\"http://www.w3.org/2000/svg\" height=\"24px\"viewBox=\"0 0 24 24\"\n",
              "     width=\"24px\">\n",
              "    <g>\n",
              "        <path d=\"M19 3H5c-1.1 0-2 .9-2 2v14c0 1.1.9 2 2 2h14c1.1 0 2-.9 2-2V5c0-1.1-.9-2-2-2zM9 17H7v-7h2v7zm4 0h-2V7h2v10zm4 0h-2v-4h2v4z\"/>\n",
              "    </g>\n",
              "</svg>\n",
              "  </button>\n",
              "\n",
              "<style>\n",
              "  .colab-df-quickchart {\n",
              "      --bg-color: #E8F0FE;\n",
              "      --fill-color: #1967D2;\n",
              "      --hover-bg-color: #E2EBFA;\n",
              "      --hover-fill-color: #174EA6;\n",
              "      --disabled-fill-color: #AAA;\n",
              "      --disabled-bg-color: #DDD;\n",
              "  }\n",
              "\n",
              "  [theme=dark] .colab-df-quickchart {\n",
              "      --bg-color: #3B4455;\n",
              "      --fill-color: #D2E3FC;\n",
              "      --hover-bg-color: #434B5C;\n",
              "      --hover-fill-color: #FFFFFF;\n",
              "      --disabled-bg-color: #3B4455;\n",
              "      --disabled-fill-color: #666;\n",
              "  }\n",
              "\n",
              "  .colab-df-quickchart {\n",
              "    background-color: var(--bg-color);\n",
              "    border: none;\n",
              "    border-radius: 50%;\n",
              "    cursor: pointer;\n",
              "    display: none;\n",
              "    fill: var(--fill-color);\n",
              "    height: 32px;\n",
              "    padding: 0;\n",
              "    width: 32px;\n",
              "  }\n",
              "\n",
              "  .colab-df-quickchart:hover {\n",
              "    background-color: var(--hover-bg-color);\n",
              "    box-shadow: 0 1px 2px rgba(60, 64, 67, 0.3), 0 1px 3px 1px rgba(60, 64, 67, 0.15);\n",
              "    fill: var(--button-hover-fill-color);\n",
              "  }\n",
              "\n",
              "  .colab-df-quickchart-complete:disabled,\n",
              "  .colab-df-quickchart-complete:disabled:hover {\n",
              "    background-color: var(--disabled-bg-color);\n",
              "    fill: var(--disabled-fill-color);\n",
              "    box-shadow: none;\n",
              "  }\n",
              "\n",
              "  .colab-df-spinner {\n",
              "    border: 2px solid var(--fill-color);\n",
              "    border-color: transparent;\n",
              "    border-bottom-color: var(--fill-color);\n",
              "    animation:\n",
              "      spin 1s steps(1) infinite;\n",
              "  }\n",
              "\n",
              "  @keyframes spin {\n",
              "    0% {\n",
              "      border-color: transparent;\n",
              "      border-bottom-color: var(--fill-color);\n",
              "      border-left-color: var(--fill-color);\n",
              "    }\n",
              "    20% {\n",
              "      border-color: transparent;\n",
              "      border-left-color: var(--fill-color);\n",
              "      border-top-color: var(--fill-color);\n",
              "    }\n",
              "    30% {\n",
              "      border-color: transparent;\n",
              "      border-left-color: var(--fill-color);\n",
              "      border-top-color: var(--fill-color);\n",
              "      border-right-color: var(--fill-color);\n",
              "    }\n",
              "    40% {\n",
              "      border-color: transparent;\n",
              "      border-right-color: var(--fill-color);\n",
              "      border-top-color: var(--fill-color);\n",
              "    }\n",
              "    60% {\n",
              "      border-color: transparent;\n",
              "      border-right-color: var(--fill-color);\n",
              "    }\n",
              "    80% {\n",
              "      border-color: transparent;\n",
              "      border-right-color: var(--fill-color);\n",
              "      border-bottom-color: var(--fill-color);\n",
              "    }\n",
              "    90% {\n",
              "      border-color: transparent;\n",
              "      border-bottom-color: var(--fill-color);\n",
              "    }\n",
              "  }\n",
              "</style>\n",
              "\n",
              "  <script>\n",
              "    async function quickchart(key) {\n",
              "      const quickchartButtonEl =\n",
              "        document.querySelector('#' + key + ' button');\n",
              "      quickchartButtonEl.disabled = true;  // To prevent multiple clicks.\n",
              "      quickchartButtonEl.classList.add('colab-df-spinner');\n",
              "      try {\n",
              "        const charts = await google.colab.kernel.invokeFunction(\n",
              "            'suggestCharts', [key], {});\n",
              "      } catch (error) {\n",
              "        console.error('Error during call to suggestCharts:', error);\n",
              "      }\n",
              "      quickchartButtonEl.classList.remove('colab-df-spinner');\n",
              "      quickchartButtonEl.classList.add('colab-df-quickchart-complete');\n",
              "    }\n",
              "    (() => {\n",
              "      let quickchartButtonEl =\n",
              "        document.querySelector('#df-b7ff1e10-94a9-4425-8d45-348bacaa0dd0 button');\n",
              "      quickchartButtonEl.style.display =\n",
              "        google.colab.kernel.accessAllowed ? 'block' : 'none';\n",
              "    })();\n",
              "  </script>\n",
              "</div>\n",
              "\n",
              "    </div>\n",
              "  </div>\n"
            ],
            "application/vnd.google.colaboratory.intrinsic+json": {
              "type": "dataframe",
              "summary": "{\n  \"name\": \"df\",\n  \"rows\": 8,\n  \"fields\": [\n    {\n      \"column\": \"Hour\",\n      \"properties\": {\n        \"dtype\": \"number\",\n        \"std\": 3093.3010814486274,\n        \"min\": 0.0,\n        \"max\": 8760.0,\n        \"num_unique_values\": 7,\n        \"samples\": [\n          8760.0,\n          11.5,\n          23.0\n        ],\n        \"semantic_type\": \"\",\n        \"description\": \"\"\n      }\n    },\n    {\n      \"column\": \"Date_Hour\",\n      \"properties\": {\n        \"dtype\": \"date\",\n        \"min\": \"1970-01-01 00:00:00.000008759\",\n        \"max\": \"2020-12-31 23:00:00\",\n        \"num_unique_values\": 7,\n        \"samples\": [\n          \"8759\",\n          \"2020-07-02 08:07:22.242265088\",\n          \"2020-10-01 17:30:00\"\n        ],\n        \"semantic_type\": \"\",\n        \"description\": \"\"\n      }\n    },\n    {\n      \"column\": \"Solar_electricity_generation\",\n      \"properties\": {\n        \"dtype\": \"number\",\n        \"std\": 3096.282976992927,\n        \"min\": 0.0,\n        \"max\": 8760.0,\n        \"num_unique_values\": 6,\n        \"samples\": [\n          8760.0,\n          0.8946347031963471,\n          1.891320143756724\n        ],\n        \"semantic_type\": \"\",\n        \"description\": \"\"\n      }\n    },\n    {\n      \"column\": \"Electricity_usage\",\n      \"properties\": {\n        \"dtype\": \"number\",\n        \"std\": 3094.3656940103683,\n        \"min\": -12.0,\n        \"max\": 8760.0,\n        \"num_unique_values\": 7,\n        \"samples\": [\n          8760.0,\n          1.6386859635954212,\n          61.0\n        ],\n        \"semantic_type\": \"\",\n        \"description\": \"\"\n      }\n    },\n    {\n      \"column\": \"Z_score\",\n      \"properties\": {\n        \"dtype\": \"number\",\n        \"std\": 3092.5199574947437,\n        \"min\": 0.0002257758421736676,\n        \"max\": 8760.0,\n        \"num_unique_values\": 7,\n        \"samples\": [\n          8760.0,\n          0.02371690328586759,\n          93.58539942569708\n        ],\n        \"semantic_type\": \"\",\n        \"description\": \"\"\n      }\n    }\n  ]\n}"
            }
          },
          "metadata": {},
          "execution_count": 124
        }
      ]
    },
    {
      "cell_type": "code",
      "source": [
        "hourly_avg = df.groupby('Hour')[['Solar_electricity_generation', 'Electricity_usage']].agg([ 'mean','min', 'max'])\n",
        "print(hourly_avg)"
      ],
      "metadata": {
        "colab": {
          "base_uri": "https://localhost:8080/"
        },
        "id": "thp2IyS-_Ieg",
        "outputId": "c1625a0a-0909-4165-8d39-df6ad2313cb4"
      },
      "execution_count": 125,
      "outputs": [
        {
          "output_type": "stream",
          "name": "stdout",
          "text": [
            "     Solar_electricity_generation         Electricity_usage            \n",
            "                             mean min max              mean   min   max\n",
            "Hour                                                                   \n",
            "0                        0.000000   0   0          0.383562   0.0  14.0\n",
            "1                        0.035616   0  13          0.084932   0.0   4.0\n",
            "2                        0.000000   0   0          0.013699   0.0   1.0\n",
            "3                        0.000000   0   0          0.063014   0.0   3.0\n",
            "4                        0.002740   0   1          0.183562   0.0   7.0\n",
            "5                        0.126027   0   5          0.235616   0.0   9.0\n",
            "6                        0.460274   0   5          1.643836   0.0  29.0\n",
            "7                        1.019178   0   6          1.309589   0.0  26.0\n",
            "8                        1.758904   0   7          1.361644  -1.0  26.0\n",
            "9                        2.473973   0   9          1.268493   0.0  27.0\n",
            "10                       3.002740   0  10          1.427397   0.0  30.0\n",
            "11                       3.273973   0  10          1.336986   0.0  31.0\n",
            "12                       3.035616   0   9          1.588737   0.0  31.0\n",
            "13                       2.550685   0   9          1.134247   0.0  26.0\n",
            "14                       1.947945   0   8          0.838356   0.0  26.0\n",
            "15                       1.210959   0   6          0.917808   0.0  24.0\n",
            "16                       0.473973   0   3          1.095890   0.0  25.0\n",
            "17                       0.093151   0   1          2.024658 -12.0  31.0\n",
            "18                       0.005479   0   1          5.630137   0.0  57.0\n",
            "19                       0.000000   0   0          5.556164   0.0  61.0\n",
            "20                       0.000000   0   0          4.331507   0.0  58.0\n",
            "21                       0.000000   0   0          2.241096  -2.0  29.0\n",
            "22                       0.000000   0   0          4.076712   0.0  33.0\n",
            "23                       0.000000   0   0          0.580822   0.0  13.0\n"
          ]
        }
      ]
    },
    {
      "cell_type": "code",
      "source": [
        "hourly_avg.plot(kind = 'line')\n"
      ],
      "metadata": {
        "colab": {
          "base_uri": "https://localhost:8080/",
          "height": 467
        },
        "collapsed": true,
        "id": "CVgVkoCTBZny",
        "outputId": "0f3fe93f-fe1d-4699-f473-d86dd7477a3b"
      },
      "execution_count": 126,
      "outputs": [
        {
          "output_type": "execute_result",
          "data": {
            "text/plain": [
              "<Axes: xlabel='Hour'>"
            ]
          },
          "metadata": {},
          "execution_count": 126
        },
        {
          "output_type": "display_data",
          "data": {
            "text/plain": [
              "<Figure size 640x480 with 1 Axes>"
            ],
            "image/png": "[encoded data removed]"
          },
          "metadata": {}
        }
      ]
    },
    {
      "cell_type": "markdown",
      "source": [
        "**Calculating Electricity Bought**\n",
        "\n",
        "The project calculates the electricity needed to be bought from the provider by subtracting the solar electricity generation from the electricity usage"
      ],
      "metadata": {
        "id": "x0Kb8RLgEsmh"
      }
    },
    {
      "cell_type": "code",
      "source": [
        " df['Electricity_bought'] = np.maximum( 0 , df['Electricity_usage']-df['Solar_electricity_generation'])"
      ],
      "metadata": {
        "id": "5qRdG161KJ9i"
      },
      "execution_count": 127,
      "outputs": []
    },
    {
      "cell_type": "markdown",
      "source": [
        "**Calculating Excess Solar Generation**"
      ],
      "metadata": {
        "id": "qbmoCJjULie0"
      }
    },
    {
      "cell_type": "code",
      "source": [
        " df['Excess_solar'] = np.maximum( 0 , df['Solar_electricity_generation']-df['Electricity_usage'])"
      ],
      "metadata": {
        "id": "f8F1QSzuLlXo"
      },
      "execution_count": 128,
      "outputs": []
    },
    {
      "cell_type": "markdown",
      "source": [
        "# **Modeling Battery Charge Level**\n",
        "\n",
        "The project assumes a maximum battery capacity of 12.5 kWh. The battery charge level is updated iteratively using a loop that considers the excess solar electricity generated and limits the charging to the battery's maximum capacity."
      ],
      "metadata": {
        "id": "zIjufL0yMstx"
      }
    },
    {
      "cell_type": "code",
      "source": [
        "max_battery_capacity = int(12.5)  # kWh\n",
        "df['Battery Charge Level'] = 0\n",
        "for index, row in df.iterrows():\n",
        "    excess_generation = row['Excess_solar']\n",
        "    battery_charge = min(max_battery_capacity - row['Battery Charge Level'], excess_generation)\n",
        "    df.at[index, 'Battery Charge Level'] = row['Battery Charge Level'] + battery_charge"
      ],
      "metadata": {
        "id": "FLPWPI5VMywn"
      },
      "execution_count": 129,
      "outputs": []
    },
    {
      "cell_type": "markdown",
      "source": [
        "**Calculating Electricity Bought with Battery**\n",
        "\n",
        "\n",
        "The electricity bought when using the battery is calculated by subtracting the excess solar generation from the previously calculated electricity bought. This accounts for the electricity stored in the battery that can be used instead of buying from the provider"
      ],
      "metadata": {
        "id": "IPus9njeUFcS"
      }
    },
    {
      "cell_type": "code",
      "source": [
        " df['Elecrticity_bought_battery'] = np.maximum( 0 , df['Electricity_bought'] - df['Excess_solar'])"
      ],
      "metadata": {
        "id": "u-h4xNMOUR8U"
      },
      "execution_count": 130,
      "outputs": []
    },
    {
      "cell_type": "markdown",
      "source": [
        " **Calculating Savings from Installing a Battery**\n",
        "\n",
        "To quantify the potential savings from installing a battery, the project calculates the cost difference between buying electricity from the provider without a battery and buying electricity with a battery. The electricity price is assumed to be $0.17 per kWh."
      ],
      "metadata": {
        "id": "yAU9YCIpU2sL"
      }
    },
    {
      "cell_type": "code",
      "source": [
        "electricity_price = int(0.17)\n",
        "df['Battery_saving'] = np.maximum (0 , df['Electricity_bought']*electricity_price - df['Elecrticity_bought_battery']*electricity_price)"
      ],
      "metadata": {
        "id": "p-Fvb1XdU8tb"
      },
      "execution_count": 131,
      "outputs": []
    },
    {
      "cell_type": "markdown",
      "source": [
        "**Data Aggregation and Visualization**\n",
        "\n",
        "The project aggregates the data on a monthly basis to provide a broader perspective. The aggregated values include total solar generation, electricity usage, electricity bought without a battery, and electricity bought with a battery."
      ],
      "metadata": {
        "id": "u8XtanwTV_jA"
      }
    },
    {
      "cell_type": "code",
      "source": [
        "df['Month'] = df['Date_Hour'].dt.month\n",
        "Monthly_data = df.groupby('Month').agg({\n",
        "    'Solar_electricity_generation': 'sum',\n",
        "    'Electricity_usage': 'sum',\n",
        "    'Electricity_bought': 'sum',\n",
        "    'Elecrticity_bought_battery' :'sum'\n",
        "}).reset_index()\n",
        "print(Monthly_data)"
      ],
      "metadata": {
        "colab": {
          "base_uri": "https://localhost:8080/"
        },
        "collapsed": true,
        "id": "FXBXzCWQWkcO",
        "outputId": "a012949d-32e5-4044-ba9e-3e68f87b12e0"
      },
      "execution_count": 132,
      "outputs": [
        {
          "output_type": "stream",
          "name": "stdout",
          "text": [
            "    Month  Solar_electricity_generation  Electricity_usage  \\\n",
            "0     1.0                           172        1373.889041   \n",
            "1     2.0                           328        1267.000000   \n",
            "2     3.0                           448        1478.000000   \n",
            "3     4.0                           731        1411.000000   \n",
            "4     5.0                          1427         665.000000   \n",
            "5     6.0                          1190         869.000000   \n",
            "6     7.0                          1143         902.000000   \n",
            "7     8.0                           954        1163.000000   \n",
            "8     9.0                           662        1304.000000   \n",
            "9    10.0                           400        1108.000000   \n",
            "10   11.0                           266        1166.000000   \n",
            "11   12.0                           116        1647.000000   \n",
            "\n",
            "    Electricity_bought  Elecrticity_bought_battery  \n",
            "0          1350.889041                 1350.889041  \n",
            "1          1201.000000                 1201.000000  \n",
            "2          1428.000000                 1428.000000  \n",
            "3          1292.000000                 1292.000000  \n",
            "4           591.000000                  591.000000  \n",
            "5           730.000000                  730.000000  \n",
            "6           793.000000                  793.000000  \n",
            "7          1066.000000                 1066.000000  \n",
            "8          1225.000000                 1225.000000  \n",
            "9          1061.000000                 1061.000000  \n",
            "10         1135.000000                 1135.000000  \n",
            "11         1621.000000                 1621.000000  \n"
          ]
        }
      ]
    },
    {
      "cell_type": "markdown",
      "source": [
        "**Visualization**"
      ],
      "metadata": {
        "id": "9MVyuvYNZCdB"
      }
    },
    {
      "cell_type": "code",
      "source": [
        "plt.figure(figsize = (10, 9))\n",
        "plt.bar(Monthly_data['Month'], Monthly_data['Solar_electricity_generation'], label = 'Solar Generated')\n",
        "plt.bar(Monthly_data['Month'], Monthly_data['Electricity_usage'], label = 'Elecricity usage')\n",
        "plt.bar(Monthly_data['Month'], Monthly_data['Electricity_bought'], label = 'Electricity bought')\n",
        "plt.bar(Monthly_data['Month'], Monthly_data['Elecrticity_bought_battery'], label = 'Electricity bought(battery)')\n",
        "#plt.xlabel('Month')\n",
        "#plt.ylabel('KWH')\n",
        "plt.legend()\n",
        "plt.title('Monthly Power Usage')\n",
        "plt.show()"
      ],
      "metadata": {
        "colab": {
          "base_uri": "https://localhost:8080/",
          "height": 758
        },
        "id": "Po3lIaVqZB8W",
        "outputId": "37b00db8-c892-4932-a6af-90d99c9c2626"
      },
      "execution_count": 134,
      "outputs": [
        {
          "output_type": "display_data",
          "data": {
            "text/plain": [
              "<Figure size 1000x900 with 1 Axes>"
            ],
            "image/png": "[encoded data removed]"
          },
          "metadata": {}
        }
      ]
    }
  ]
}