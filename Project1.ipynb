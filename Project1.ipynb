{
 "cells": [
  {
   "cell_type": "code",
   "execution_count": 4,
   "id": "bb9905c2-8337-4ad1-a240-28e1a2fc3633",
   "metadata": {},
   "outputs": [
    {
     "name": "stdout",
     "output_type": "stream",
     "text": [
      "Requirement already satisfied: Pandas in c:\\users\\admin\\anaconda3\\lib\\site-packages (2.2.2)\n",
      "Requirement already satisfied: numpy>=1.26.0 in c:\\users\\admin\\anaconda3\\lib\\site-packages (from Pandas) (1.26.4)\n",
      "Requirement already satisfied: python-dateutil>=2.8.2 in c:\\users\\admin\\anaconda3\\lib\\site-packages (from Pandas) (2.9.0.post0)\n",
      "Requirement already satisfied: pytz>=2020.1 in c:\\users\\admin\\anaconda3\\lib\\site-packages (from Pandas) (2024.1)\n",
      "Requirement already satisfied: tzdata>=2022.7 in c:\\users\\admin\\anaconda3\\lib\\site-packages (from Pandas) (2023.3)\n",
      "Requirement already satisfied: six>=1.5 in c:\\users\\admin\\anaconda3\\lib\\site-packages (from python-dateutil>=2.8.2->Pandas) (1.16.0)\n",
      "Note: you may need to restart the kernel to use updated packages.\n"
     ]
    }
   ],
   "source": [
    "pip install Pandas\n"
   ]
  },
  {
   "cell_type": "code",
   "execution_count": 2,
   "id": "c6f010b2-87ee-4d04-952f-3990d784790b",
   "metadata": {},
   "outputs": [],
   "source": [
    "import pandas as pd\n",
    "import numpy as np"
   ]
  },
  {
   "cell_type": "code",
   "execution_count": 3,
   "id": "faed98f0-78fd-4fb0-aca4-6842512401e7",
   "metadata": {},
   "outputs": [],
   "source": [
    "data = pd.read_csv('C:/Users/ADMIN/Desktop/DS/1. Weather Data.csv')"
   ]
  },
  {
   "cell_type": "code",
   "execution_count": 4,
   "id": "c50e244b-fefd-4981-ae55-8e5f34f99a7a",
   "metadata": {},
   "outputs": [
    {
     "name": "stdout",
     "output_type": "stream",
     "text": [
      "         Date/Time  Temp_C  Dew Point Temp_C  Rel Hum_%  Wind Speed_km/h  \\\n",
      "0    1/1/2012 0:00    -1.8              -3.9         86                4   \n",
      "1    1/1/2012 1:00    -1.8              -3.7         87                4   \n",
      "2    1/1/2012 2:00    -1.8              -3.4         89                7   \n",
      "3    1/1/2012 3:00    -1.5              -3.2         88                6   \n",
      "4    1/1/2012 4:00    -1.5              -3.3         88                7   \n",
      "5    1/1/2012 5:00    -1.4              -3.3         87                9   \n",
      "6    1/1/2012 6:00    -1.5              -3.1         89                7   \n",
      "7    1/1/2012 7:00    -1.4              -3.6         85                7   \n",
      "8    1/1/2012 8:00    -1.4              -3.6         85                9   \n",
      "9    1/1/2012 9:00    -1.3              -3.1         88               15   \n",
      "10  1/1/2012 10:00    -1.0              -2.3         91                9   \n",
      "\n",
      "    Visibility_km  Press_kPa               Weather  \n",
      "0             8.0     101.24                   Fog  \n",
      "1             8.0     101.24                   Fog  \n",
      "2             4.0     101.26  Freezing Drizzle,Fog  \n",
      "3             4.0     101.27  Freezing Drizzle,Fog  \n",
      "4             4.8     101.23                   Fog  \n",
      "5             6.4     101.27                   Fog  \n",
      "6             6.4     101.29                   Fog  \n",
      "7             8.0     101.26                   Fog  \n",
      "8             8.0     101.23                   Fog  \n",
      "9             4.0     101.20                   Fog  \n",
      "10            1.2     101.15                   Fog  \n"
     ]
    }
   ],
   "source": [
    "print(data.head(11))"
   ]
  },
  {
   "cell_type": "code",
   "execution_count": 5,
   "id": "e6dcafb8-661b-4cab-8973-611b83601994",
   "metadata": {},
   "outputs": [
    {
     "name": "stdout",
     "output_type": "stream",
     "text": [
      "             Date/Time  Temp_C  Dew Point Temp_C  Rel Hum_%  Wind Speed_km/h  \\\n",
      "8773  12/31/2012 13:00    -4.6              -6.6         86                4   \n",
      "8774  12/31/2012 14:00    -3.4              -5.7         84                6   \n",
      "8775  12/31/2012 15:00    -2.3              -4.6         84                9   \n",
      "8776  12/31/2012 16:00    -1.4              -4.0         82               13   \n",
      "8777  12/31/2012 17:00    -1.1              -3.3         85               19   \n",
      "8778  12/31/2012 18:00    -1.3              -3.1         88               17   \n",
      "8779  12/31/2012 19:00     0.1              -2.7         81               30   \n",
      "8780  12/31/2012 20:00     0.2              -2.4         83               24   \n",
      "8781  12/31/2012 21:00    -0.5              -1.5         93               28   \n",
      "8782  12/31/2012 22:00    -0.2              -1.8         89               28   \n",
      "8783  12/31/2012 23:00     0.0              -2.1         86               30   \n",
      "\n",
      "      Visibility_km  Press_kPa Weather  \n",
      "8773           12.9     100.63    Snow  \n",
      "8774           11.3     100.57    Snow  \n",
      "8775            9.7     100.47    Snow  \n",
      "8776           12.9     100.40    Snow  \n",
      "8777            9.7     100.30    Snow  \n",
      "8778            9.7     100.19    Snow  \n",
      "8779            9.7     100.13    Snow  \n",
      "8780            9.7     100.03    Snow  \n",
      "8781            4.8      99.95    Snow  \n",
      "8782            9.7      99.91    Snow  \n",
      "8783           11.3      99.89    Snow  \n"
     ]
    }
   ],
   "source": [
    "print(data.tail(11))"
   ]
  },
  {
   "cell_type": "code",
   "execution_count": 6,
   "id": "ae86582e-39f3-4628-8612-8c3a45fa65bf",
   "metadata": {},
   "outputs": [],
   "source": [
    "selected_column1 = data['Weather']"
   ]
  },
  {
   "cell_type": "code",
   "execution_count": 7,
   "id": "f28dad33-e097-408f-a0d2-09256468376e",
   "metadata": {},
   "outputs": [],
   "source": [
    "Q1 = data.query(\"Weather=='Clear'\")"
   ]
  },
  {
   "cell_type": "code",
   "execution_count": 8,
   "id": "399b07b6-2245-4177-9f9b-f46455b44410",
   "metadata": {},
   "outputs": [
    {
     "name": "stdout",
     "output_type": "stream",
     "text": [
      "             Date/Time  Temp_C  Dew Point Temp_C  Rel Hum_%  Wind Speed_km/h  \\\n",
      "67      1/3/2012 19:00   -16.9             -24.8         50               24   \n",
      "114     1/5/2012 18:00    -7.1             -14.4         56               11   \n",
      "115     1/5/2012 19:00    -9.2             -15.4         61                7   \n",
      "116     1/5/2012 20:00    -9.8             -15.7         62                9   \n",
      "117     1/5/2012 21:00    -9.0             -14.8         63               13   \n",
      "...                ...     ...               ...        ...              ...   \n",
      "8646   12/26/2012 6:00   -13.4             -14.8         89                4   \n",
      "8698  12/28/2012 10:00    -6.1              -8.6         82               19   \n",
      "8713   12/29/2012 1:00   -11.9             -13.6         87               11   \n",
      "8714   12/29/2012 2:00   -11.8             -13.1         90               13   \n",
      "8756  12/30/2012 20:00   -13.8             -16.5         80               24   \n",
      "\n",
      "      Visibility_km  Press_kPa Weather  \n",
      "67             25.0     101.74   Clear  \n",
      "114            25.0     100.71   Clear  \n",
      "115            25.0     100.80   Clear  \n",
      "116            25.0     100.83   Clear  \n",
      "117            25.0     100.83   Clear  \n",
      "...             ...        ...     ...  \n",
      "8646           25.0     102.47   Clear  \n",
      "8698           24.1     101.27   Clear  \n",
      "8713           25.0     101.31   Clear  \n",
      "8714           25.0     101.33   Clear  \n",
      "8756           25.0     101.52   Clear  \n",
      "\n",
      "[1326 rows x 8 columns]\n"
     ]
    }
   ],
   "source": [
    "print(Q1)"
   ]
  },
  {
   "cell_type": "code",
   "execution_count": 9,
   "id": "ce198a04-72f0-405a-9edb-2101bb0552f9",
   "metadata": {},
   "outputs": [
    {
     "ename": "TypeError",
     "evalue": "'DataFrame' object is not callable",
     "output_type": "error",
     "traceback": [
      "\u001b[1;31m---------------------------------------------------------------------------\u001b[0m",
      "\u001b[1;31mTypeError\u001b[0m                                 Traceback (most recent call last)",
      "Cell \u001b[1;32mIn[9], line 1\u001b[0m\n\u001b[1;32m----> 1\u001b[0m selected_column \u001b[38;5;241m=\u001b[39m data(\u001b[38;5;124m'\u001b[39m\u001b[38;5;124mWind Speed_km/h\u001b[39m\u001b[38;5;124m'\u001b[39m)\n",
      "\u001b[1;31mTypeError\u001b[0m: 'DataFrame' object is not callable"
     ]
    }
   ],
   "source": [
    "selected_column = data('Wind Speed_km/h')"
   ]
  },
  {
   "cell_type": "code",
   "execution_count": 10,
   "id": "3380c94a-28c1-45e2-9c90-376741b31260",
   "metadata": {},
   "outputs": [
    {
     "name": "stdout",
     "output_type": "stream",
     "text": [
      "<class 'pandas.core.frame.DataFrame'>\n",
      "RangeIndex: 8784 entries, 0 to 8783\n",
      "Data columns (total 8 columns):\n",
      " #   Column            Non-Null Count  Dtype  \n",
      "---  ------            --------------  -----  \n",
      " 0   Date/Time         8784 non-null   object \n",
      " 1   Temp_C            8784 non-null   float64\n",
      " 2   Dew Point Temp_C  8784 non-null   float64\n",
      " 3   Rel Hum_%         8784 non-null   int64  \n",
      " 4   Wind Speed_km/h   8784 non-null   int64  \n",
      " 5   Visibility_km     8784 non-null   float64\n",
      " 6   Press_kPa         8784 non-null   float64\n",
      " 7   Weather           8784 non-null   object \n",
      "dtypes: float64(4), int64(2), object(2)\n",
      "memory usage: 549.1+ KB\n",
      "None\n"
     ]
    }
   ],
   "source": [
    "print(data.info())"
   ]
  },
  {
   "cell_type": "code",
   "execution_count": null,
   "id": "361d4f9a-75bf-4ae8-817a-efa58b94c4c1",
   "metadata": {},
   "outputs": [],
   "source": []
  }
 ],
 "metadata": {
  "kernelspec": {
   "display_name": "Python 3 (ipykernel)",
   "language": "python",
   "name": "python3"
  },
  "language_info": {
   "codemirror_mode": {
    "name": "ipython",
    "version": 3
   },
   "file_extension": ".py",
   "mimetype": "text/x-python",
   "name": "python",
   "nbconvert_exporter": "python",
   "pygments_lexer": "ipython3",
   "version": "3.12.4"
  }
 },
 "nbformat": 4,
 "nbformat_minor": 5
}
